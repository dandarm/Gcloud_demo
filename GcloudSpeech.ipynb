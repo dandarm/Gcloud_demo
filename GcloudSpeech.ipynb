{
 "cells": [
  {
   "cell_type": "code",
   "execution_count": 1,
   "metadata": {},
   "outputs": [],
   "source": [
    "from google.cloud import speech_v1p1beta1\n",
    "from google.cloud.speech_v1p1beta1 import enums\n",
    "\n",
    "import io\n",
    "\n",
    "## not working\n",
    "#from google.cloud import speech_v1\n",
    "#from google.cloud.speech_v1 import enums"
   ]
  },
  {
   "cell_type": "code",
   "execution_count": 2,
   "metadata": {},
   "outputs": [
    {
     "name": "stdout",
     "output_type": "stream",
     "text": [
      "/home/daniele/Documenti/Progetti/ASR/GoogleCloudSpeech/credentials.json\n"
     ]
    }
   ],
   "source": [
    "# Questa variabile deve contenere il path del file di credenziali\n",
    "!echo \"$GOOGLE_APPLICATION_CREDENTIALS\""
   ]
  },
  {
   "cell_type": "code",
   "execution_count": 3,
   "metadata": {},
   "outputs": [],
   "source": [
    "config_params = {\n",
    "    \"language_code\": \"it-IT\", #\"en-US\"\n",
    "    \"sample_rate_hertz\": 44100, #16000\n",
    "    \"encoding\": enums.RecognitionConfig.AudioEncoding.MP3,\n",
    "    #\"encoding\": enums.RecognitionConfig.AudioEncoding.LINEAR16,\n",
    "}"
   ]
  },
  {
   "cell_type": "code",
   "execution_count": 4,
   "metadata": {},
   "outputs": [],
   "source": [
    "def sample_recognize(audiofile_path, config, local=True):\n",
    "    \"\"\"\n",
    "    Performs synchronous speech recognition on an audio file\n",
    "\n",
    "    Arguments:\n",
    "      storage_uri URI for audio file in Cloud Storage, e.g. gs://[BUCKET]/[FILE]\n",
    "      or\n",
    "      local_file_path Path to local audio file, e.g. /path/audio.wav\n",
    "    \"\"\"\n",
    "\n",
    "    client = speech_v1p1beta1.SpeechClient()\n",
    "\n",
    "    if(local):\n",
    "        with io.open(audiofile_path, \"rb\") as f:\n",
    "            content = f.read()\n",
    "        audio = {\"content\": content}\n",
    "    else:\n",
    "        # storage_uri = 'gs://cloud-samples-data/speech/brooklyn_bridge.mp3'\n",
    "        storage_uri = audiofile_path\n",
    "        audio = {\"uri\": storage_uri}\n",
    "    \n",
    "    response = client.recognize(config, audio)\n",
    "    for result in response.results:\n",
    "        # First alternative is the most probable result\n",
    "        alternative = result.alternatives[0]\n",
    "        print(u\"Transcript: {}\".format(alternative.transcript))"
   ]
  },
  {
   "cell_type": "raw",
   "metadata": {},
   "source": [
    "def main():\n",
    "    import argparse\n",
    "\n",
    "    parser = argparse.ArgumentParser()\n",
    "    parser.add_argument(\n",
    "        \"--storage_uri\",\n",
    "        type=str,\n",
    "        default=\"gs://cloud-samples-data/speech/brooklyn_bridge.mp3\",\n",
    "    )\n",
    "    args = parser.parse_args()\n",
    "\n",
    "    sample_recognize(args.storage_uri)\n",
    "\n",
    "\n",
    "if __name__ == \"__main__\":\n",
    "    main()\n"
   ]
  },
  {
   "cell_type": "code",
   "execution_count": 11,
   "metadata": {},
   "outputs": [
    {
     "name": "stdout",
     "output_type": "stream",
     "text": [
      "Transcript: aneddoti barzellette episodi\n"
     ]
    }
   ],
   "source": [
    "filepath = 'parte1.mp3'\n",
    "sample_recognize(filepath, config_params)"
   ]
  },
  {
   "cell_type": "code",
   "execution_count": 6,
   "metadata": {},
   "outputs": [
    {
     "name": "stdout",
     "output_type": "stream",
     "text": [
      "Transcript: è una delle mie fobie quando prendo la macchina ho paura di non trovare parcheggio in centro\n"
     ]
    }
   ],
   "source": [
    "filepath = 'parte2.mp3'\n",
    "sample_recognize(filepath, config_params)"
   ]
  },
  {
   "cell_type": "code",
   "execution_count": 7,
   "metadata": {},
   "outputs": [
    {
     "name": "stdout",
     "output_type": "stream",
     "text": [
      "Transcript: è una azione intenzionale Noi guardiamo di prof\n"
     ]
    }
   ],
   "source": [
    "filepath = 'parte3.mp3'\n",
    "sample_recognize(filepath, config_params)"
   ]
  },
  {
   "cell_type": "code",
   "execution_count": 12,
   "metadata": {},
   "outputs": [
    {
     "name": "stdout",
     "output_type": "stream",
     "text": [
      "Transcript: l'abbacchi e le galline perché so senza spine non so come baccalà\n"
     ]
    }
   ],
   "source": [
    "filepath = 'Bri1.mp3'\n",
    "sample_recognize(filepath, config_params)"
   ]
  },
  {
   "cell_type": "code",
   "execution_count": 9,
   "metadata": {},
   "outputs": [
    {
     "name": "stdout",
     "output_type": "stream",
     "text": [
      "Transcript: spaghetti amatriciana\n"
     ]
    }
   ],
   "source": [
    "filepath = 'Bri2.mp3'\n",
    "sample_recognize(filepath, config_params)"
   ]
  },
  {
   "cell_type": "code",
   "execution_count": 10,
   "metadata": {},
   "outputs": [
    {
     "name": "stdout",
     "output_type": "stream",
     "text": [
      "Transcript: Sì la socera more se famo du spaghetti amatriciana\n"
     ]
    }
   ],
   "source": [
    "filepath = 'Bri2_2.mp3'\n",
    "sample_recognize(filepath, config_params)"
   ]
  },
  {
   "cell_type": "code",
   "execution_count": null,
   "metadata": {},
   "outputs": [],
   "source": []
  }
 ],
 "metadata": {
  "kernelspec": {
   "display_name": "Python 3",
   "language": "python",
   "name": "python3"
  },
  "language_info": {
   "codemirror_mode": {
    "name": "ipython",
    "version": 3
   },
   "file_extension": ".py",
   "mimetype": "text/x-python",
   "name": "python",
   "nbconvert_exporter": "python",
   "pygments_lexer": "ipython3",
   "version": "3.7.6"
  }
 },
 "nbformat": 4,
 "nbformat_minor": 4
}
